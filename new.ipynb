{
 "cells": [
  {
   "cell_type": "code",
   "execution_count": 4,
   "id": "437b5c2d",
   "metadata": {},
   "outputs": [
    {
     "name": "stdout",
     "output_type": "stream",
     "text": [
      "50\n",
      "...doog gniod era ew dnA tnemngissa gnivlos era eW\n"
     ]
    }
   ],
   "source": [
    "String=\"We are solving assignment And we are doing good...\"\n",
    "print(len(String))\n",
    "x=len(String)%5\n",
    "\n",
    "if x==0:\n",
    "    a=String[::-1]\n",
    "    print(a)\n",
    "else:\n",
    "    print(\"String length is not multiple of five\")"
   ]
  },
  {
   "cell_type": "code",
   "execution_count": 10,
   "id": "b264e157",
   "metadata": {},
   "outputs": [
    {
     "name": "stdout",
     "output_type": "stream",
     "text": [
      "enter any float number :2.34\n",
      "formated number with % is:  234%\n"
     ]
    }
   ],
   "source": [
    "number=float(input('enter any float number :')) \n",
    "percentage=\"{:.0%}\".format(number) \n",
    "print('formated number with % is: ',percentage)"
   ]
  },
  {
   "cell_type": "code",
   "execution_count": 12,
   "id": "9ba01207",
   "metadata": {},
   "outputs": [
    {
     "name": "stdout",
     "output_type": "stream",
     "text": [
      "enter your string:hi anjum\n",
      " hianjum\n"
     ]
    }
   ],
   "source": [
    "str1 = input('enter your string:') \n",
    "str2 = \" \"\n",
    "for i in str1:\n",
    "    if i not in str2: #str2 = str2+i\n",
    "        str2 += i\n",
    "\n",
    "print(str2)\n"
   ]
  },
  {
   "cell_type": "code",
   "execution_count": 40,
   "id": "97e0a69f",
   "metadata": {},
   "outputs": [
    {
     "name": "stdout",
     "output_type": "stream",
     "text": [
      "[1.23, 4.56, 8.9]\n",
      "['Machine learning', 'python']\n"
     ]
    }
   ],
   "source": [
    "list1 = [2, 6, 4.56, 'python', 100, 'Machine learning', 1.23, 8.9, 45]\n",
    "int_val =[]\n",
    "float_val=[]\n",
    "string_val=[]\n",
    "for i in list1:\n",
    "    if type(i) == int:\n",
    "        int_val.append(i)\n",
    "        #int_val.sort()\n",
    "        continue\n",
    "        print(int_val)\n",
    "    elif type(i) == float:\n",
    "        float_val.append(i)\n",
    "        float_val.sort()\n",
    "        pass\n",
    "    else:\n",
    "        string_val.append(i)\n",
    "        string_val.sort()\n",
    "        \n",
    "        \n",
    "#print(int_val)\n",
    "print(float_val)\n",
    "print(string_val)"
   ]
  },
  {
   "cell_type": "code",
   "execution_count": 47,
   "id": "87733769",
   "metadata": {},
   "outputs": [
    {
     "name": "stdout",
     "output_type": "stream",
     "text": [
      "Ënter the number: 5\n",
      "The number5 factorial is120\n"
     ]
    }
   ],
   "source": [
    "num =eval(input(\"Ënter the number: \"))\n",
    "fact = 1\n",
    "for  num in range(1,num+1):\n",
    "     if num >= 0:\n",
    "        fact = fact*num\n",
    "print(f\"The number{num} factorial is{fact}\")    "
   ]
  },
  {
   "cell_type": "code",
   "execution_count": 53,
   "id": "74fee2f2",
   "metadata": {},
   "outputs": [
    {
     "name": "stdout",
     "output_type": "stream",
     "text": [
      "0\n",
      "1\n",
      "1\n",
      "2\n",
      "3\n",
      "5\n",
      "8\n",
      "13\n"
     ]
    }
   ],
   "source": [
    "n=8\n",
    "n1=0\n",
    "n2=1\n",
    "print(n1)\n",
    "print(n2)\n",
    "for i in range(n-2):\n",
    "    n3= n1+n2\n",
    "    print(n3)\n",
    "    n1=n2\n",
    "    n2=n3"
   ]
  },
  {
   "cell_type": "code",
   "execution_count": 57,
   "id": "5fb6cf6d",
   "metadata": {},
   "outputs": [
    {
     "name": "stdout",
     "output_type": "stream",
     "text": [
      "enter number: 8\n",
      "0 1 1 2 3 5 8 13 "
     ]
    }
   ],
   "source": [
    "n=eval(input(\"enter number: \"))\n",
    "n1=0\n",
    "n2=1\n",
    "print(n1,end=\" \")\n",
    "print(n2,end=\" \")\n",
    "for i in range(n-2):\n",
    "    n3=n1+n2\n",
    "    print(n3,end=\" \")\n",
    "    n1=n2\n",
    "    n2=n3"
   ]
  },
  {
   "cell_type": "code",
   "execution_count": 73,
   "id": "bf482616",
   "metadata": {},
   "outputs": [
    {
     "name": "stdout",
     "output_type": "stream",
     "text": [
      "prime\n"
     ]
    }
   ],
   "source": [
    "#n=eval(input(\"enter the number: \"))\n",
    "n=7\n",
    "for i in range(2,n):\n",
    "        if n%i == 0:\n",
    "            print(\"number was not prime\")\n",
    "            break\n",
    "else:\n",
    "    print(\"prime\")"
   ]
  },
  {
   "cell_type": "code",
   "execution_count": 79,
   "id": "43fcc4aa",
   "metadata": {},
   "outputs": [
    {
     "name": "stdout",
     "output_type": "stream",
     "text": [
      "enter number3\n",
      "prime\n"
     ]
    }
   ],
   "source": [
    "n=eval(input(\"enter number\"))\n",
    "for i in range(2,n):\n",
    "    if n%i == 0:\n",
    "        print(\"Not prime\")\n",
    "        break\n",
    "else:\n",
    "    print(\"prime\")"
   ]
  },
  {
   "cell_type": "code",
   "execution_count": 97,
   "id": "01fc9306",
   "metadata": {},
   "outputs": [
    {
     "name": "stdout",
     "output_type": "stream",
     "text": [
      "enter number13\n",
      "prime 13\n"
     ]
    }
   ],
   "source": [
    "n=eval(input(\"enter number\"))\n",
    "for i in range(2,n):\n",
    "    if n%i == 0:\n",
    "        print(\"not prime\")\n",
    "        break\n",
    "else:\n",
    "    print(f\"prime {n}\")"
   ]
  },
  {
   "cell_type": "code",
   "execution_count": 105,
   "id": "ca1ed946",
   "metadata": {},
   "outputs": [
    {
     "ename": "TypeError",
     "evalue": "unsupported operand type(s) for %: 'list' and 'int'",
     "output_type": "error",
     "traceback": [
      "\u001b[1;31m---------------------------------------------------------------------------\u001b[0m",
      "\u001b[1;31mTypeError\u001b[0m                                 Traceback (most recent call last)",
      "Input \u001b[1;32mIn [105]\u001b[0m, in \u001b[0;36m<cell line: 3>\u001b[1;34m()\u001b[0m\n\u001b[0;32m      2\u001b[0m n1\u001b[38;5;241m=\u001b[39m\u001b[38;5;28mlen\u001b[39m(n)\n\u001b[0;32m      3\u001b[0m \u001b[38;5;28;01mfor\u001b[39;00m i \u001b[38;5;129;01min\u001b[39;00m \u001b[38;5;28mrange\u001b[39m(\u001b[38;5;241m2\u001b[39m,\u001b[38;5;28mlen\u001b[39m(n)):\n\u001b[1;32m----> 4\u001b[0m     \u001b[38;5;28;01mif\u001b[39;00m \u001b[43mn\u001b[49m\u001b[43m \u001b[49m\u001b[38;5;241;43m%\u001b[39;49m\u001b[43m \u001b[49m\u001b[43mi\u001b[49m \u001b[38;5;241m==\u001b[39m \u001b[38;5;241m0\u001b[39m:\n\u001b[0;32m      5\u001b[0m         \u001b[38;5;28mprint\u001b[39m(\u001b[38;5;124mf\u001b[39m\u001b[38;5;124m\"\u001b[39m\u001b[38;5;124mnumber is not prime \u001b[39m\u001b[38;5;132;01m{\u001b[39;00mn\u001b[38;5;132;01m}\u001b[39;00m\u001b[38;5;124m\"\u001b[39m)\n\u001b[0;32m      6\u001b[0m         \u001b[38;5;28;01mbreak\u001b[39;00m\n",
      "\u001b[1;31mTypeError\u001b[0m: unsupported operand type(s) for %: 'list' and 'int'"
     ]
    }
   ],
   "source": [
    "n=[2,3,5,6,7,9,13]\n",
    "n1=len(n)\n",
    "for i in range(2,len(n)):\n",
    "    if n%i == 0:\n",
    "        print(f\"number is not prime {n}\")\n",
    "        break\n",
    "else:\n",
    "    print(f\"number is prime {n}\")"
   ]
  },
  {
   "cell_type": "code",
   "execution_count": 14,
   "id": "7ef46b18",
   "metadata": {},
   "outputs": [
    {
     "ename": "SyntaxError",
     "evalue": "invalid syntax (2088284991.py, line 4)",
     "output_type": "error",
     "traceback": [
      "\u001b[1;36m  Input \u001b[1;32mIn [14]\u001b[1;36m\u001b[0m\n\u001b[1;33m    print(i+=1)\u001b[0m\n\u001b[1;37m           ^\u001b[0m\n\u001b[1;31mSyntaxError\u001b[0m\u001b[1;31m:\u001b[0m invalid syntax\n"
     ]
    }
   ],
   "source": [
    "n=5;i=0\n",
    "if i<=n:\n",
    "    print(\" \" * (n - i) +\"*\" * i)\n",
    "    print(i+=1)"
   ]
  },
  {
   "cell_type": "code",
   "execution_count": 17,
   "id": "e963b123",
   "metadata": {},
   "outputs": [
    {
     "name": "stdout",
     "output_type": "stream",
     "text": [
      "    *\n",
      "   **\n",
      "  ***\n",
      " ****\n",
      "*****\n"
     ]
    }
   ],
   "source": [
    "n = 5\n",
    "for i in range(1, n+ 1):\n",
    "    print(\" \" * (n - i) +\"*\" * i)"
   ]
  },
  {
   "cell_type": "code",
   "execution_count": 20,
   "id": "199cbbee",
   "metadata": {},
   "outputs": [
    {
     "name": "stdout",
     "output_type": "stream",
     "text": [
      "l1: [12, 8, 100, 40, 60, 900, 44]\n",
      "l2: [66, 78, 12, 60, 900]\n",
      "l3: [8, 40]\n",
      "l4: [100, 40, 60, 50, 70, 900]\n",
      "l5: [45, 66, 78, 12, 9, 60, 900]\n",
      "l6: [45, 65, 100, 40, 60, 50, 70, 900]\n",
      "l7: [70]\n",
      "l8: [45, 9, 900]\n"
     ]
    }
   ],
   "source": [
    "l1=[]\n",
    "l2=[]\n",
    "l3=[]\n",
    "l4=[]\n",
    "l5=[]\n",
    "l6=[]\n",
    "l7=[]\n",
    "l8=[]\n",
    "list=[11,23,34,45,65,66,78,12,8,9,100,40,60,50,70,900,44]\n",
    "for i in list:\n",
    "    if i%4==0:\n",
    "        l1.append(i)\n",
    "    if i%6==0:\n",
    "        l2.append(i)\n",
    "    if i%8==0:\n",
    "        l3.append(i)\n",
    "    if i%10==0:\n",
    "        l4.append(i)\n",
    "    if i%3==0:\n",
    "        l5.append(i)\n",
    "    if i%5==0:\n",
    "        l6.append(i)\n",
    "    if i%7==0:\n",
    "        l7.append(i)\n",
    "    if i%9==0:\n",
    "        l8.append(i)\n",
    "print('l1:',l1)\n",
    "print('l2:', l2)\n",
    "print('l3:', l3)\n",
    "print('l4:', l4)\n",
    "print('l5:', l5)\n",
    "print('l6:', l6)\n",
    "print('l7:', l7)\n",
    "print('l8:', l8)"
   ]
  },
  {
   "cell_type": "code",
   "execution_count": 26,
   "id": "f2bc6dae",
   "metadata": {},
   "outputs": [
    {
     "ename": "SyntaxError",
     "evalue": "invalid syntax (4056759502.py, line 6)",
     "output_type": "error",
     "traceback": [
      "\u001b[1;36m  Input \u001b[1;32mIn [26]\u001b[1;36m\u001b[0m\n\u001b[1;33m    print(list2)\u001b[0m\n\u001b[1;37m    ^\u001b[0m\n\u001b[1;31mSyntaxError\u001b[0m\u001b[1;31m:\u001b[0m invalid syntax\n"
     ]
    }
   ],
   "source": [
    "list1=range(0,151)\n",
    "list2=[]\n",
    "for i in list1:\n",
    "    if (i% 4==0) or (i%6==0) or (i%8==0) or (i%10==0) or (i%3==0) or (i%5==0) or (i%\n",
    "    list2.append(i)\n",
    "print(list2)\n"
   ]
  },
  {
   "cell_type": "code",
   "execution_count": null,
   "id": "2cdd5f6f",
   "metadata": {},
   "outputs": [],
   "source": []
  }
 ],
 "metadata": {
  "kernelspec": {
   "display_name": "Python 3 (ipykernel)",
   "language": "python",
   "name": "python3"
  },
  "language_info": {
   "codemirror_mode": {
    "name": "ipython",
    "version": 3
   },
   "file_extension": ".py",
   "mimetype": "text/x-python",
   "name": "python",
   "nbconvert_exporter": "python",
   "pygments_lexer": "ipython3",
   "version": "3.9.12"
  }
 },
 "nbformat": 4,
 "nbformat_minor": 5
}
