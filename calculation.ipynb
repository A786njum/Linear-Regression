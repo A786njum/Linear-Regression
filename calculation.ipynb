{
 "cells": [
  {
   "cell_type": "markdown",
   "id": "e891ec0d",
   "metadata": {},
   "source": [
    "# Linear Regression "
   ]
  },
  {
   "cell_type": "markdown",
   "id": "34044db2",
   "metadata": {},
   "source": [
    "## Gradient Descent Algorithm"
   ]
  },
  {
   "cell_type": "code",
   "execution_count": null,
   "id": "d06a4f7e",
   "metadata": {},
   "outputs": [],
   "source": [
    ">> Gradient DEscent is used to find optimal cost function value\n",
    "\n",
    "\n",
    "1. It uses partial derivatives to find new m and c values\n",
    "2. We will get best m and c values from infinite number of possibilities \n",
    "3. Step size will become smaller and smaller while reaching towards Global Minima Point\n",
    "4. Global Minima >> Best m and c values(BEST MSE)"
   ]
  },
  {
   "cell_type": "markdown",
   "id": "8ec67151",
   "metadata": {},
   "source": [
    "## 1. ERROR >> RESIDUAL"
   ]
  },
  {
   "cell_type": "code",
   "execution_count": null,
   "id": "3f41c61b",
   "metadata": {},
   "outputs": [],
   "source": [
    "Error = ya  -yp\n",
    "\n",
    "Residual = ya - yp\n",
    "\n",
    "Residual >> Error between actual values and predicted values\n",
    "\n",
    "Positive >> IF data points are above the regression line\n",
    "Negative >> IF data points are below the regression line\n",
    "zero >> If data points are on the regression line"
   ]
  },
  {
   "cell_type": "markdown",
   "id": "a52edcc0",
   "metadata": {},
   "source": [
    "## 2. SSE"
   ]
  },
  {
   "cell_type": "code",
   "execution_count": null,
   "id": "e557a88d",
   "metadata": {},
   "outputs": [],
   "source": [
    "SSE >> Sum of Squared Error\n",
    "\n",
    "SSE = RSS >> REsidual Sum of Square\n",
    "\n",
    "SSE = sum(Ya - Yp)^2\n",
    "\n",
    "SSE >> Sum of squared difference between actual and predicted values"
   ]
  },
  {
   "cell_type": "markdown",
   "id": "61672d0b",
   "metadata": {},
   "source": [
    "## 3. MSE"
   ]
  },
  {
   "cell_type": "code",
   "execution_count": null,
   "id": "479c5a07",
   "metadata": {},
   "outputs": [],
   "source": [
    "MSE >> Mean Squared Error >> CF of LR\n",
    "\n",
    "MSE = [sum(Ya - Yp)^2]/N\n",
    "\n",
    "MSE = SSE / N"
   ]
  },
  {
   "cell_type": "markdown",
   "id": "30396bb1",
   "metadata": {},
   "source": [
    "## 4. SSR"
   ]
  },
  {
   "cell_type": "code",
   "execution_count": null,
   "id": "f902d3ad",
   "metadata": {},
   "outputs": [],
   "source": [
    "SSR >> Sum of Squared Error due to regression\n",
    "\n",
    "SSR >> ESS >> Explained Sum of Squares\n",
    "\n",
    "SSR >> Regression Error\n",
    "\n",
    "SSR = sum(Yp - Ymean)^2\n",
    "\n",
    "SSR >> Sum of squared difference between predicted and mean value of dependent variable(y)"
   ]
  },
  {
   "cell_type": "markdown",
   "id": "af02697f",
   "metadata": {},
   "source": [
    "## SST"
   ]
  },
  {
   "cell_type": "code",
   "execution_count": null,
   "id": "b50a6785",
   "metadata": {},
   "outputs": [],
   "source": [
    "SST >> Sum of Squares Total >> Total Error\n",
    "\n",
    "SST >> TSS >> Total Sum of Squares\n",
    "\n",
    "\n",
    "SST = sum(Ya - Ymean)^2\n",
    "\n",
    "SST >> Sum of squared difference between actual and mean value of dependent variable(y)"
   ]
  },
  {
   "cell_type": "markdown",
   "id": "aa6451b0",
   "metadata": {},
   "source": [
    "## R-Squared "
   ]
  },
  {
   "cell_type": "code",
   "execution_count": null,
   "id": "ba81f224",
   "metadata": {},
   "outputs": [],
   "source": [
    "0 to 1\n",
    "\n",
    "0 >> worst\n",
    "1 >> Best \n",
    "\n",
    "Goodness of Best Fit line\n",
    "Performance of model"
   ]
  },
  {
   "cell_type": "markdown",
   "id": "299accd0",
   "metadata": {},
   "source": [
    "## No Multicollinearity"
   ]
  },
  {
   "cell_type": "code",
   "execution_count": null,
   "id": "2a09e534",
   "metadata": {},
   "outputs": [],
   "source": [
    "There should not be good Correlation between independent Variables\n",
    "\n",
    "VIF >> Variance Inflation Factor\n",
    "\n",
    "VIF >> 1 to inf (range)\n",
    "\n",
    "VIF >> 1 to 10\n",
    "\n",
    "VIF = 1 / (1 - R^2)"
   ]
  }
 ],
 "metadata": {
  "kernelspec": {
   "display_name": "Python 3 (ipykernel)",
   "language": "python",
   "name": "python3"
  },
  "language_info": {
   "codemirror_mode": {
    "name": "ipython",
    "version": 3
   },
   "file_extension": ".py",
   "mimetype": "text/x-python",
   "name": "python",
   "nbconvert_exporter": "python",
   "pygments_lexer": "ipython3",
   "version": "3.9.12"
  }
 },
 "nbformat": 4,
 "nbformat_minor": 5
}
